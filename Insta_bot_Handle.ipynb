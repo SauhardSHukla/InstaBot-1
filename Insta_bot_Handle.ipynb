{
 "cells": [
  {
   "cell_type": "markdown",
   "metadata": {},
   "source": [
    "Here we will perform various tasks on the Intagram with the help of the cookies that we have extracted with the help of the cookies_creation.ipynb file "
   ]
  },
  {
   "cell_type": "markdown",
   "metadata": {},
   "source": [
    "Task 1. Type the 'food' word in the serach bar and find and print all the Insta Handles people which are visible as a list & Print there name"
   ]
  },
  {
   "cell_type": "code",
   "execution_count": 74,
   "metadata": {},
   "outputs": [],
   "source": [
    "from selenium import webdriver\n",
    "from selenium.webdriver.common.keys import Keys\n",
    "from selenium.webdriver.common.by import By\n",
    "from selenium.webdriver.support.wait import WebDriverWait\n",
    "from selenium.webdriver.support import expected_conditions as EC\n",
    "from selenium.webdriver.chrome.options import Options\n",
    "from selenium.common.exceptions import NoSuchElementException\n",
    "from bs4 import BeautifulSoup\n",
    "import time\n",
    "import json"
   ]
  },
  {
   "cell_type": "code",
   "execution_count": 75,
   "metadata": {},
   "outputs": [
    {
     "name": "stderr",
     "output_type": "stream",
     "text": [
      "The chromedriver version (131.0.6778.85) detected in PATH at C:\\Windows\\chromedriver.exe might not be compatible with the detected chrome version (132.0.6834.83); currently, chromedriver 132.0.6834.83 is recommended for chrome 132.*, so it is advised to delete the driver in PATH and retry\n"
     ]
    }
   ],
   "source": [
    "options = webdriver.ChromeOptions()\n",
    "# options.add_argument(\"--headless\") \n",
    "options.add_argument(\"user-agent=Mozilla/5.0 (Windows NT 10.0; Win64; x64) AppleWebKit/537.36 (KHTML, like Gecko) Chrome/91.0.4472.124 Safari/537.36\")\n",
    "driver = webdriver.Chrome(options=options)\n",
    "\n",
    "# Navigate to Medium\n",
    "driver.get(\"https://www.instagram.com\")\n",
    "\n",
    "# Load cookies from JSON\n",
    "with open('cookies_insta_bot.json', 'r') as file:\n",
    "    all_cookies = json.load(file)\n",
    "\n",
    "# Clear existing cookies\n",
    "driver.delete_all_cookies()\n",
    "\n",
    "# Add cookies\n",
    "for cookie in all_cookies:\n",
    "    if '.instagram.com' in cookie.get('domain', ''):\n",
    "        driver.add_cookie(cookie)\n",
    "\n",
    "# Refresh page to apply cookies\n",
    "driver.get(\"https://instagram.com\")\n",
    "time.sleep(3)\n",
    "\n",
    "# Check if login was successful\n",
    "# print(driver.get_cookies())"
   ]
  },
  {
   "cell_type": "code",
   "execution_count": 76,
   "metadata": {},
   "outputs": [],
   "source": [
    "WebDriverWait(driver, 10).until(\n",
    "    EC.visibility_of_element_located((By.XPATH, '/html/body/div[1]/div/div/div[2]/div/div/div[1]/div[1]/div[2]/div/div/div/div/div[2]/div[2]/span/div/a/div'))\n",
    ").click()"
   ]
  },
  {
   "cell_type": "code",
   "execution_count": 77,
   "metadata": {},
   "outputs": [],
   "source": [
    "elements=WebDriverWait(driver, 20).until(\n",
    "    EC.visibility_of_element_located((By.XPATH, '/html/body/div[1]/div/div/div[2]/div/div/div[1]/div[1]/div[2]/div/div/div[2]/div/div/div[2]/div/div/div[1]/div/div/input'))\n",
    ")\n",
    "elements.send_keys('Food')\n",
    "time.sleep(10)"
   ]
  },
  {
   "cell_type": "markdown",
   "metadata": {},
   "source": [
    "Task 2) Type for the 'Food' in the serach bar and print the list of all visible insta handles in the screen"
   ]
  },
  {
   "cell_type": "code",
   "execution_count": 78,
   "metadata": {},
   "outputs": [
    {
     "name": "stdout",
     "output_type": "stream",
     "text": [
      "Here are the Insta Handles that are visible in search Column\n",
      "1) _food.sframe_\n",
      "2) ___foodistaan___\n",
      "3) foodgrammmm__\n",
      "4) foodie_in_car\n",
      "5) lucknowibhukkad\n"
     ]
    }
   ],
   "source": [
    "food_handles = WebDriverWait(driver,10).until(\n",
    "  EC.presence_of_element_located((By.XPATH,'/html/body/div[1]/div/div/div[2]/div/div/div[1]/div[1]/div[2]/div/div/div[2]/div/div/div[2]/div/div/div[2]'))\n",
    ")\n",
    "All_acc_food= food_handles.find_elements(By.CSS_SELECTOR, '.x1lliihq.x1plvlek.xryxfnj.x1n2onr6.x1ji0vk5.x18bv5gf.x193iq5w.xeuugli.x1fj9vlw.x13faqbe.x1vvkbs.x1s928wv.xhkezso.x1gmr53x.x1cpjm7i.x1fgarty.x1943h6x.x1i0vuye.xvs91rp.x1s688f.x5n08af.x10wh9bi.x1wdrske.x8viiok.x18hxmgj')\n",
    "time.sleep(10)\n",
    "print('Here are the Insta Handles that are visible in search Column')\n",
    "j=1\n",
    "for i in All_acc_food:\n",
    "  print(f'{j}) {i.text}')\n",
    "  j+=1\n",
    "time.sleep(10)"
   ]
  },
  {
   "cell_type": "markdown",
   "metadata": {},
   "source": [
    "Task 3) Find the Insta Handle 'Sodelhi' and open it account "
   ]
  },
  {
   "cell_type": "code",
   "execution_count": 79,
   "metadata": {},
   "outputs": [],
   "source": [
    "elements=WebDriverWait(driver, 10).until(\n",
    "    EC.visibility_of_element_located((By.XPATH, '/html/body/div[1]/div/div/div[2]/div/div/div[1]/div[1]/div[2]/div/div/div[2]/div/div/div[2]/div/div/div[1]/div/div/input'))\n",
    ")\n",
    "time.sleep(3)\n",
    "elements.clear()\n",
    "time.sleep(5)\n",
    "elements.send_keys('sodelhi')"
   ]
  },
  {
   "cell_type": "code",
   "execution_count": 80,
   "metadata": {},
   "outputs": [
    {
     "name": "stdout",
     "output_type": "stream",
     "text": [
      "Here are the Insta Handles that are visible in search Column\n",
      "1) sodelhi\n",
      "2) sodelhitreasurehunt\n",
      "3) sodelhi1990\n",
      "4) so_delhi_\n",
      "5) sodelhi7\n"
     ]
    }
   ],
   "source": [
    "Insta_handles = WebDriverWait(driver,10).until(\n",
    "  EC.presence_of_element_located((By.XPATH,'/html/body/div[1]/div/div/div[2]/div/div/div[1]/div[1]/div[2]/div/div/div[2]/div/div/div[2]/div/div/div[2]'))\n",
    ")\n",
    "time.sleep(6)\n",
    "\n",
    "# With the help of the 'CSS.SELECTOR' we will specify the particular class or it will not find any other class Data\n",
    "each_acc_names = Insta_handles.find_elements(By.CSS_SELECTOR, '.x1lliihq.x1plvlek.xryxfnj.x1n2onr6.x1ji0vk5.x18bv5gf.x193iq5w.xeuugli.x1fj9vlw.x13faqbe.x1vvkbs.x1s928wv.xhkezso.x1gmr53x.x1cpjm7i.x1fgarty.x1943h6x.x1i0vuye.xvs91rp.x1s688f.x5n08af.x10wh9bi.x1wdrske.x8viiok.x18hxmgj')\n",
    "\n",
    "# We will print all the name that are visible on the Search Column\n",
    "print('Here are the Insta Handles that are visible in search Column')\n",
    "j=1\n",
    "for i in each_acc_names:\n",
    "  print(f'{j}) {i.text}')\n",
    "  j+=1\n"
   ]
  },
  {
   "cell_type": "code",
   "execution_count": 81,
   "metadata": {},
   "outputs": [],
   "source": [
    "Insta_handles = WebDriverWait(driver,10).until(\n",
    "  EC.presence_of_element_located((By.XPATH,'/html/body/div[1]/div/div/div[2]/div/div/div[1]/div[1]/div[2]/div/div/div[2]/div/div/div[2]/div/div/div[2]'))\n",
    ")\n",
    "time.sleep(6)\n",
    "all_acc_names = Insta_handles.find_elements(By.CSS_SELECTOR, '.x9f619.xjbqb8w.x78zum5.x168nmei.x13lgxp2.x5pf9jr.xo71vjh.x1uhb9sk.x1plvlek.xryxfnj.x1c4vz4f.x2lah0s.x1q0g3np.xqjyukv.x6s0dn4.x1oa3qoh.x1nhvcw1')\n",
    "\n",
    "# Loop on all the Insta Handles \n",
    "for each_acc_name in all_acc_names:\n",
    "    \n",
    "    # Check if the current account has the blue tick so we only access the verified account \n",
    "    try:\n",
    "        if each_acc_name:\n",
    "            blue_tick = each_acc_name.find_element(By.CSS_SELECTOR,'.x9f619.xjbqb8w.x1rg5ohu.x168nmei.x13lgxp2.x5pf9jr.xo71vjh.xsgj6o6.x1uhb9sk.x1plvlek.xryxfnj.x1c4vz4f.x2lah0s.xdt5ytf.xqjyukv.x1qjc9v5.x1oa3qoh.x1nhvcw1')\n",
    "            if blue_tick :\n",
    "              each_acc_name.click()  \n",
    "              time.sleep(2) \n",
    "              break\n",
    "\n",
    "    # If you not found any Insta handle name with a Blue-tick the print the error on the Screen\n",
    "    # This situation may occur only when the 'SoDelhi' account is suspended by the Instagram\n",
    "    except NoSuchElementException:\n",
    "            print(f\"No blue tick found for account: {each_acc_name.text}\")"
   ]
  },
  {
   "cell_type": "markdown",
   "metadata": {},
   "source": [
    "Task 4) Follow the 'SoDelhi' Insta Handle and then Unfollow the 'SoDelhi' Insta Handle \n",
    "Print the message if you have already followed the 'SoDelhi' else print another message if you have not followed it "
   ]
  },
  {
   "cell_type": "code",
   "execution_count": 82,
   "metadata": {},
   "outputs": [
    {
     "name": "stdout",
     "output_type": "stream",
     "text": [
      "You are now following the Insta Account\n"
     ]
    }
   ],
   "source": [
    "\"\"\"\n",
    "Here we will check the situation that if we have followed the Insta User then we will Unfollow the Insta User and then\n",
    "print the that you have followed the User if we have already followed the user then we will Unfollow the User and print \n",
    "that we have unfollowed the User\n",
    "\"\"\"\n",
    "\n",
    "#We will find the button of 'FOLLOW' in the User Insta Handle\n",
    "button=WebDriverWait(driver,10).until(\n",
    "  EC.element_to_be_clickable((By.XPATH,'/html/body/div[1]/div/div/div[2]/div/div/div[1]/div[2]/div/div[1]/section/main/div/header/section[2]/div/div/div[2]/div/div[1]/button'))\n",
    ")\n",
    "\n",
    "# Here will Use the Try and Except(If any kind of issue happend)\n",
    "try:\n",
    "    # Check if the button text contains 'Following'\n",
    "    if 'Following' in button.text:\n",
    "        button.click()\n",
    "        time.sleep(5)\n",
    "\n",
    "        # We will wait for 10 seconds so it can load the Alert box and the save all the Buttons \n",
    "        alert_buttons = WebDriverWait(driver, 10).until(\n",
    "            EC.presence_of_all_elements_located((By.CSS_SELECTOR, '.x1i10hfl.x1qjc9v5.xjbqb8w.xjqpnuy.xa49m3k.xqeqjp1.x2hbi6w.x13fuv20.xu3j5b3.x1q0q8m5.x26u7qi.x972fbf.xcfux6l.x1qhh985.xm0m39n.x9f619.x1ypdohk.xdl72j9.x2lah0s.xe8uvvx.xdj266r.x11i5rnm.xat24cr.x1mh8g0r.x2lwn1j.xeuugli.xexx8yu.x4uap5.x18d9i69.xkhd6sd.x1n2onr6.x16tdsg8.x1hl2dhg.xggy1nq.x1ja2u2z.x1t137rt.x1q0g3np.x87ps6o.x1lku1pv.x1a2a7pz.x1dm5mii.x16mil14.xiojian.x1yutycm.x1lliihq.x193iq5w.xh8yej3')\n",
    "        ))\n",
    "        time.sleep(5)\n",
    "\n",
    "        # Here we will loop over the 'alert_buttons' to find out the Unfollow button and click on it\n",
    "        for each_buttons in alert_buttons:\n",
    "            if 'Unfollow' in each_buttons.text:\n",
    "                each_buttons.click()\n",
    "                print('You now unfollowed SoDelhi')\n",
    "\n",
    "    # Check if the button text contains 'Follow'\n",
    "    else: \n",
    "        button.click()  # Follow the account\n",
    "        print('You are now following the Insta Account')\n",
    "\n",
    "\n",
    "except Exception as e:\n",
    "    print(f\"An error occurred: {e}\")"
   ]
  },
  {
   "cell_type": "code",
   "execution_count": 83,
   "metadata": {},
   "outputs": [],
   "source": [
    "\"\"\" \n",
    "Here we will first click on the first post of the the 'SoDelhi' so we can open the post and then like the posts of the\n",
    "'SoDelhi' \n",
    "\"\"\"\n",
    "\n",
    "#Taking the First Post XPATH & Clicking on it\n",
    "first_post = WebDriverWait(driver,10).until(\n",
    "  EC.element_to_be_clickable((By.XPATH,'/html/body/div[1]/div/div/div[2]/div/div/div[1]/div[2]/div/div[1]/section/main/div/div[2]/div/div[1]/div[1]'))\n",
    ")\n",
    "first_post.click()"
   ]
  },
  {
   "cell_type": "code",
   "execution_count": 84,
   "metadata": {},
   "outputs": [
    {
     "name": "stdout",
     "output_type": "stream",
     "text": [
      "Window Apper on the screen\n"
     ]
    }
   ],
   "source": [
    "\"\"\" \n",
    "Here we will Check that 'SoDelhi' Insta Handle visible on the screen so we can proceed with futher tasks\n",
    "\"\"\"\n",
    "try:\n",
    "  all_pop_up_windows = WebDriverWait(driver,10).until(\n",
    "  EC.presence_of_all_elements_located((By.CSS_SELECTOR,'.x1iyjqo2.xdj266r.xkrivgy.xat24cr.x1gryazu.x1ykew4q.x38y82z.xc73u3c.x18d9i69.x5ib6vp.x19sv2k2.x1wfb79h.x1oyxtw5.x1k4gc0v.x15w28ab.x10rn61k')))\n",
    "  if all_pop_up_windows:\n",
    "    print('Window Apper on the screen')\n",
    "  else:\n",
    "    print('Window not appeard')\n",
    "\n",
    "except Exception as e:\n",
    "  print(f'There is issue in the code :{e}')"
   ]
  },
  {
   "cell_type": "code",
   "execution_count": 85,
   "metadata": {},
   "outputs": [],
   "source": [
    "\"\"\" \n",
    "Here we will loop for the first 30 post of the 'SoDelhi' Insta handle and then like all of then we will keep on \n",
    "clicking on the next button of the post and then 'like' then all  and then Unlike them\n",
    "\n",
    "// Task will be performed to make this thing work completely will be these to:-\n",
    "\n",
    "1) We will load all the classes that hold three post in each row , when we open the 'SoDelhi' Insta Handle we will \n",
    "have four classes with three post of each so we will make a scroll that will scroll for four time and load all the\n",
    "classes that hold the all 30 post that we are needed\n",
    "\n",
    "2) This task will make us like all the post that we executed from scrolling the Insta Handles \n",
    "\n",
    "3) This task will make us Unlike all the 30 post again \n",
    "\n",
    "\"\"\"\n",
    "\n",
    "#Task 1:- Scrolling the page to button for four times\n",
    "page_height = driver.execute_script('return document.body.scrollHeight')\n",
    "j=10\n",
    "while j<=0:\n",
    "\n",
    "  driver.execute_script('window.scrollTo(0,document.body.scrollHeight);')\n",
    "\n",
    "  time.sleep(2)\n",
    "\n",
    "  new_height = driver.execute_script('return document.body.scrollHeight')\n",
    "\n",
    "  if new_height == page_height:\n",
    "    break\n",
    "  page_height= new_height\n",
    "  j-=1\n"
   ]
  },
  {
   "cell_type": "code",
   "execution_count": 88,
   "metadata": {},
   "outputs": [
    {
     "name": "stdout",
     "output_type": "stream",
     "text": [
      "Found 24 posts.\n",
      "Post 1 already liked.\n",
      "Post 2 already liked.\n",
      "Post 3 already liked.\n"
     ]
    }
   ],
   "source": [
    "\n",
    "try:\n",
    "    all_post_classes = WebDriverWait(driver, 10).until(\n",
    "        EC.presence_of_all_elements_located(\n",
    "            (By.CSS_SELECTOR, '.x1lliihq.x1n2onr6.xh8yej3.x4gyw5p.x1ntc13c.x9i3mqj.x11i5rnm.x2pgyrj')\n",
    "        )\n",
    "    )\n",
    "    print(f\"Found {len(all_post_classes)} posts.\")\n",
    "\n",
    "    # Initialize counter\n",
    "    j = 0\n",
    "\n",
    "    for post in all_post_classes:\n",
    "        if j >= 3:  \n",
    "            break\n",
    "        post.click()\n",
    "\n",
    "        # Wait for the like button to be clickable\n",
    "        try:\n",
    "            like_button = WebDriverWait(driver, 10).until(\n",
    "                EC.element_to_be_clickable((By.CSS_SELECTOR, 'body > div.x1n2onr6.xzkaem6 > div.x9f619.x1n2onr6.x1ja2u2z > div > div.x1uvtmcs.x4k7w5x.x1h91t0o.x1beo9mf.xaigb6o.x12ejxvf.x3igimt.xarpa2k.xedcshv.x1lytzrv.x1t2pt76.x7ja8zs.x1n2onr6.x1qrby5j.x1jfb8zj > div > div > div > div > div.xb88tzc.xw2csxc.x1odjw0f.x5fp0pe.x1qjc9v5.xjbqb8w.x1lcm9me.x1yr5g0i.xrt01vj.x10y3i5r.xr1yuqi.xkrivgy.x4ii5y1.x1gryazu.x15h9jz8.x47corl.xh8yej3.xir0mxb.x1juhsu6 > div > article > div > div.x1qjc9v5.x972fbf.xcfux6l.x1qhh985.xm0m39n.x9f619.x78zum5.xdt5ytf.x1iyjqo2.x5wqa0o.xln7xf2.xk390pu.xdj266r.x11i5rnm.xat24cr.x1mh8g0r.x65f84u.x1vq45kp.xexx8yu.x4uap5.x18d9i69.xkhd6sd.x1n2onr6.x11njtxf > div > div > div.x78zum5.xdt5ytf.x1q2y9iw.x1n2onr6.xh8yej3.x9f619.x1iyjqo2.x18l3tf1.x26u7qi.xy80clv.xexx8yu.x4uap5.x18d9i69.xkhd6sd > section.x78zum5.x1q0g3np.xwib8y2.x1yrsyyn.x1xp8e9x.x13fuv20.x178xt8z.xdj266r.x11i5rnm.xat24cr.x1mh8g0r.xo1ph6p.x1pi30zi.x1swvt13 > span.x1rg5ohu.xp7jhwk > div > div > div'))\n",
    "            )\n",
    "            time.sleep(2)\n",
    "            # Check if the button is labeled 'Like' and click it\n",
    "            if 'Like' in like_button.get_attribute('title'):\n",
    "                like_button.click()\n",
    "                print(f\"Post {j+1} liked.\")\n",
    "            else:\n",
    "                print(f\"Post {j+1} already liked.\")\n",
    "            time.sleep(2)\n",
    "\n",
    "        except Exception as e:\n",
    "            print(f\"Could not interact with the like button for post {j+1}: {e}\")\n",
    "\n",
    "        # Close the post pop-up\n",
    "        close_button = WebDriverWait(driver, 10).until(\n",
    "            EC.element_to_be_clickable((By.CSS_SELECTOR, 'body > div.x1n2onr6.xzkaem6 > div.x9f619.x1n2onr6.x1ja2u2z > div > div.x160vmok.x10l6tqk.x1eu8d0j.x1vjfegm > div > div'))  # Replace with actual CSS selector\n",
    "        )\n",
    "        close_button.click()\n",
    "\n",
    "        # Increment the counter\n",
    "        j += 1\n",
    "\n",
    "        # Short delay to ensure elements load correctly\n",
    "        time.sleep(2)\n",
    "\n",
    "except Exception as e:\n",
    "    print(f\"An error occurred: {e}\")\n"
   ]
  }
 ],
 "metadata": {
  "kernelspec": {
   "display_name": "Python 3",
   "language": "python",
   "name": "python3"
  },
  "language_info": {
   "codemirror_mode": {
    "name": "ipython",
    "version": 3
   },
   "file_extension": ".py",
   "mimetype": "text/x-python",
   "name": "python",
   "nbconvert_exporter": "python",
   "pygments_lexer": "ipython3",
   "version": "3.12.3"
  }
 },
 "nbformat": 4,
 "nbformat_minor": 2
}
