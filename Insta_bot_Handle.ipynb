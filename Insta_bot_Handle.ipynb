{
 "cells": [
  {
   "cell_type": "markdown",
   "metadata": {},
   "source": [
    "Here we will perform various tasks on the Intagram with the help of the cookies that we have extracted with the help of the cookies_creation.ipynb file "
   ]
  },
  {
   "cell_type": "markdown",
   "metadata": {},
   "source": [
    "Task 1. Type the 'food' word in the serach bar and find and print all the Insta Handles people which are visible as a list & Print there name"
   ]
  },
  {
   "cell_type": "code",
   "execution_count": 119,
   "metadata": {},
   "outputs": [],
   "source": [
    "from selenium import webdriver\n",
    "from selenium.webdriver.common.keys import Keys\n",
    "from selenium.webdriver.common.by import By\n",
    "from selenium.webdriver.support.wait import WebDriverWait\n",
    "from selenium.webdriver.support import expected_conditions as EC\n",
    "from selenium.webdriver.chrome.options import Options\n",
    "from selenium.common.exceptions import NoSuchElementException\n",
    "from bs4 import BeautifulSoup\n",
    "import time\n",
    "import json"
   ]
  },
  {
   "cell_type": "code",
   "execution_count": null,
   "metadata": {},
   "outputs": [
    {
     "name": "stderr",
     "output_type": "stream",
     "text": [
      "The chromedriver version (131.0.6778.85) detected in PATH at C:\\Windows\\chromedriver.exe might not be compatible with the detected chrome version (132.0.6834.83); currently, chromedriver 132.0.6834.83 is recommended for chrome 132.*, so it is advised to delete the driver in PATH and retry\n"
     ]
    },
    {
     "name": "stdout",
     "output_type": "stream",
     "text": [
      "[{'domain': '.instagram.com', 'httpOnly': True, 'name': 'rur', 'path': '/', 'sameSite': 'Lax', 'secure': True, 'value': '\"CCO\\\\05437040137202\\\\0541768721430:01f70c2e9425821f6f68f87a48eed8ad1936669691ebf7259b350307fb13b4f3e7fff6c7\"'}, {'domain': '.instagram.com', 'expiry': 1737790228, 'httpOnly': False, 'name': 'wd', 'path': '/', 'sameSite': 'Lax', 'secure': True, 'value': '1036x699'}, {'domain': '.instagram.com', 'expiry': 1768635030, 'httpOnly': False, 'name': 'csrftoken', 'path': '/', 'sameSite': 'Lax', 'secure': True, 'value': '6C4YHhXg9bAg1wEqoJpa_0'}, {'domain': '.instagram.com', 'expiry': 1771660388, 'httpOnly': True, 'name': 'datr', 'path': '/', 'sameSite': 'None', 'secure': True, 'value': 'YwyKZ3joqaWZJ9idnLsB71TC'}, {'domain': '.instagram.com', 'expiry': 1768636703, 'httpOnly': True, 'name': 'ig_did', 'path': '/', 'sameSite': 'Lax', 'secure': True, 'value': '4B82D208-4909-42E0-8BD9-32B31C494D73'}, {'domain': '.instagram.com', 'expiry': 1737790228, 'httpOnly': False, 'name': 'dpr', 'path': '/', 'sameSite': 'None', 'secure': True, 'value': '1.25'}, {'domain': '.instagram.com', 'expiry': 1768636703, 'httpOnly': True, 'name': 'sessionid', 'path': '/', 'sameSite': 'Lax', 'secure': True, 'value': '37040137202%3Af3A46GFy05pMY6%3A13%3AAYeUbJKXy3KGfB-GFs4RqGPP577-pUPkF8N_S6N_dg'}, {'domain': '.instagram.com', 'expiry': 1771660388, 'httpOnly': False, 'name': 'mid', 'path': '/', 'sameSite': 'Lax', 'secure': True, 'value': 'Z4oMYwALAAHSkaqczbaW5NeIPoV0'}, {'domain': '.instagram.com', 'expiry': 1768636612, 'httpOnly': False, 'name': 'ig_nrcb', 'path': '/', 'sameSite': 'Lax', 'secure': True, 'value': '1'}, {'domain': '.instagram.com', 'expiry': 1744961430, 'httpOnly': False, 'name': 'ds_user_id', 'path': '/', 'sameSite': 'Lax', 'secure': True, 'value': '37040137202'}]\n"
     ]
    }
   ],
   "source": [
    "options = webdriver.ChromeOptions()\n",
    "# options.add_argument(\"--headless\") \n",
    "options.add_argument(\"user-agent=Mozilla/5.0 (Windows NT 10.0; Win64; x64) AppleWebKit/537.36 (KHTML, like Gecko) Chrome/91.0.4472.124 Safari/537.36\")\n",
    "driver = webdriver.Chrome(options=options)\n",
    "\n",
    "# Navigate to Medium\n",
    "driver.get(\"https://www.instagram.com\")\n",
    "\n",
    "# Load cookies from JSON\n",
    "with open('cookies_insta_bot.json', 'r') as file:\n",
    "    all_cookies = json.load(file)\n",
    "\n",
    "# Clear existing cookies\n",
    "driver.delete_all_cookies()\n",
    "\n",
    "# Add cookies\n",
    "for cookie in all_cookies:\n",
    "    if '.instagram.com' in cookie.get('domain', ''):\n",
    "        driver.add_cookie(cookie)\n",
    "\n",
    "# Refresh page to apply cookies\n",
    "driver.get(\"https://instagram.com\")\n",
    "time.sleep(3)\n",
    "\n",
    "# Check if login was successful\n",
    "# print(driver.get_cookies())"
   ]
  },
  {
   "cell_type": "code",
   "execution_count": 121,
   "metadata": {},
   "outputs": [],
   "source": [
    "WebDriverWait(driver, 10).until(\n",
    "    EC.visibility_of_element_located((By.XPATH, '/html/body/div[1]/div/div/div[2]/div/div/div[1]/div[1]/div[2]/div/div/div/div/div[2]/div[2]/span/div/a/div'))\n",
    ").click()"
   ]
  },
  {
   "cell_type": "code",
   "execution_count": 122,
   "metadata": {},
   "outputs": [],
   "source": [
    "elements=WebDriverWait(driver, 20).until(\n",
    "    EC.visibility_of_element_located((By.XPATH, '/html/body/div[1]/div/div/div[2]/div/div/div[1]/div[1]/div[2]/div/div/div[2]/div/div/div[2]/div/div/div[1]/div/div/input'))\n",
    ")\n",
    "elements.send_keys('Food')\n",
    "time.sleep(10)"
   ]
  },
  {
   "cell_type": "markdown",
   "metadata": {},
   "source": [
    "Task 2) Type for the 'Food' in the serach bar and print the list of all visible insta handles in the screen"
   ]
  },
  {
   "cell_type": "code",
   "execution_count": 123,
   "metadata": {},
   "outputs": [
    {
     "name": "stdout",
     "output_type": "stream",
     "text": [
      "Here are the Insta Handles that are visible in search Column\n",
      "1) _food.sframe_\n",
      "2) ___foodistaan___\n",
      "3) foodgrammmm__\n",
      "4) foodie_in_car\n",
      "5) foodbyswag\n"
     ]
    }
   ],
   "source": [
    "food_handles = WebDriverWait(driver,10).until(\n",
    "  EC.presence_of_element_located((By.XPATH,'/html/body/div[1]/div/div/div[2]/div/div/div[1]/div[1]/div[2]/div/div/div[2]/div/div/div[2]/div/div/div[2]'))\n",
    ")\n",
    "All_acc_food= food_handles.find_elements(By.CSS_SELECTOR, '.x1lliihq.x1plvlek.xryxfnj.x1n2onr6.x1ji0vk5.x18bv5gf.x193iq5w.xeuugli.x1fj9vlw.x13faqbe.x1vvkbs.x1s928wv.xhkezso.x1gmr53x.x1cpjm7i.x1fgarty.x1943h6x.x1i0vuye.xvs91rp.x1s688f.x5n08af.x10wh9bi.x1wdrske.x8viiok.x18hxmgj')\n",
    "time.sleep(10)\n",
    "print('Here are the Insta Handles that are visible in search Column')\n",
    "j=1\n",
    "for i in All_acc_food:\n",
    "  print(f'{j}) {i.text}')\n",
    "  j+=1\n",
    "time.sleep(10)"
   ]
  },
  {
   "cell_type": "markdown",
   "metadata": {},
   "source": [
    "Task 3) Find the Insta Handle 'Sodelhi' and open it account "
   ]
  },
  {
   "cell_type": "code",
   "execution_count": 124,
   "metadata": {},
   "outputs": [],
   "source": [
    "elements=WebDriverWait(driver, 10).until(\n",
    "    EC.visibility_of_element_located((By.XPATH, '/html/body/div[1]/div/div/div[2]/div/div/div[1]/div[1]/div[2]/div/div/div[2]/div/div/div[2]/div/div/div[1]/div/div/input'))\n",
    ")\n",
    "time.sleep(3)\n",
    "elements.clear()\n",
    "time.sleep(5)\n",
    "elements.send_keys('sodelhi')"
   ]
  },
  {
   "cell_type": "code",
   "execution_count": 125,
   "metadata": {},
   "outputs": [
    {
     "name": "stdout",
     "output_type": "stream",
     "text": [
      "Here are the Insta Handles that are visible in search Column\n",
      "1) sodelhi\n",
      "2) sodelhitreasurehunt\n",
      "3) sodelhi1990\n",
      "4) sodelhi7\n",
      "5) somuchmore.designs\n"
     ]
    }
   ],
   "source": [
    "Insta_handles = WebDriverWait(driver,10).until(\n",
    "  EC.presence_of_element_located((By.XPATH,'/html/body/div[1]/div/div/div[2]/div/div/div[1]/div[1]/div[2]/div/div/div[2]/div/div/div[2]/div/div/div[2]'))\n",
    ")\n",
    "time.sleep(6)\n",
    "\n",
    "# With the help of the 'CSS.SELECTOR' we will specify the particular class or it will not find any other class Data\n",
    "each_acc_names = Insta_handles.find_elements(By.CSS_SELECTOR, '.x1lliihq.x1plvlek.xryxfnj.x1n2onr6.x1ji0vk5.x18bv5gf.x193iq5w.xeuugli.x1fj9vlw.x13faqbe.x1vvkbs.x1s928wv.xhkezso.x1gmr53x.x1cpjm7i.x1fgarty.x1943h6x.x1i0vuye.xvs91rp.x1s688f.x5n08af.x10wh9bi.x1wdrske.x8viiok.x18hxmgj')\n",
    "\n",
    "# We will print all the name that are visible on the Search Column\n",
    "print('Here are the Insta Handles that are visible in search Column')\n",
    "j=1\n",
    "for i in each_acc_names:\n",
    "  print(f'{j}) {i.text}')\n",
    "  j+=1\n"
   ]
  },
  {
   "cell_type": "code",
   "execution_count": 126,
   "metadata": {},
   "outputs": [],
   "source": [
    "Insta_handles = WebDriverWait(driver,10).until(\n",
    "  EC.presence_of_element_located((By.XPATH,'/html/body/div[1]/div/div/div[2]/div/div/div[1]/div[1]/div[2]/div/div/div[2]/div/div/div[2]/div/div/div[2]'))\n",
    ")\n",
    "time.sleep(6)\n",
    "all_acc_names = Insta_handles.find_elements(By.CSS_SELECTOR, '.x9f619.xjbqb8w.x78zum5.x168nmei.x13lgxp2.x5pf9jr.xo71vjh.x1uhb9sk.x1plvlek.xryxfnj.x1c4vz4f.x2lah0s.x1q0g3np.xqjyukv.x6s0dn4.x1oa3qoh.x1nhvcw1')\n",
    "\n",
    "# Loop on all the Insta Handles \n",
    "for each_acc_name in all_acc_names:\n",
    "    \n",
    "    # Check if the current account has the blue tick so we only access the verified account \n",
    "    try:\n",
    "        if each_acc_name:\n",
    "            blue_tick = each_acc_name.find_element(By.CSS_SELECTOR,'.x9f619.xjbqb8w.x1rg5ohu.x168nmei.x13lgxp2.x5pf9jr.xo71vjh.xsgj6o6.x1uhb9sk.x1plvlek.xryxfnj.x1c4vz4f.x2lah0s.xdt5ytf.xqjyukv.x1qjc9v5.x1oa3qoh.x1nhvcw1')\n",
    "            if blue_tick :\n",
    "              each_acc_name.click()  \n",
    "              time.sleep(2) \n",
    "              break\n",
    "\n",
    "    # If you not found any Insta handle name with a Blue-tick the print the error on the Screen\n",
    "    # This situation may occur only when the 'SoDelhi' account is suspended by the Instagram\n",
    "    except NoSuchElementException:\n",
    "            print(f\"No blue tick found for account: {each_acc_name.text}\")"
   ]
  },
  {
   "cell_type": "markdown",
   "metadata": {},
   "source": [
    "Task 4) Follow the 'SoDelhi' Insta Handle and then Unfollow the 'SoDelhi' Insta Handle \n",
    "Print the message if you have already followed the 'SoDelhi' else print another message if you have not followed it "
   ]
  },
  {
   "cell_type": "code",
   "execution_count": 164,
   "metadata": {},
   "outputs": [],
   "source": [
    "button=WebDriverWait(driver,10).until(\n",
    "  EC.element_to_be_clickable((By.XPATH,'/html/body/div[1]/div/div/div[2]/div/div/div[1]/div[2]/div/div[1]/section/main/div/header/section[2]/div/div/div[2]/div/div[1]/button'))\n",
    ")\n",
    "\n",
    "try:\n",
    "    # Check if the button text contains 'Following'\n",
    "    if 'Following' in button.text:\n",
    "        button.click()\n",
    "        time.sleep(5)\n",
    "        unfollow_button = WebDriverWait(driver, 10).until(\n",
    "            EC.element_to_be_clickable((By.CSS_SELECTOR, '.x1i10hfl.x1qjc9v5.xjbqb8w.xjqpnuy.xa49m3k.xqeqjp1.x2hbi6w.x13fuv20.xu3j5b3.x1q0q8m5.x26u7qi.x972fbf.xcfux6l.x1qhh985.xm0m39n.x9f619.x1ypdohk.xdl72j9.x2lah0s.xe8uvvx.xdj266r.x11i5rnm.xat24cr.x1mh8g0r.x2lwn1j.xeuugli.xexx8yu.x4uap5.x18d9i69.xkhd6sd.x1n2onr6.x16tdsg8.x1hl2dhg.xggy1nq.x1ja2u2z.x1t137rt.x1q0g3np.x87ps6o.x1lku1pv.x1a2a7pz.x1dm5mii.x16mil14.xiojian.x1yutycm.x1lliihq.x193iq5w.xh8yej3')\n",
    "        ))\n",
    "        time.sleep(5)\n",
    "        if 'Unfollow' in unfollow_button.text:\n",
    "            unfollow_button.click()\n",
    "            print('You now unfollowed SoDelhi')\n",
    "\n",
    "    # Check if the button text contains 'Follow'\n",
    "    else: \n",
    "        button.click()  # Follow the account\n",
    "        print('You are now following the Insta Account')\n",
    "        \n",
    "except Exception as e:\n",
    "    print(f\"An error occurred: {e}\")\n",
    "\n"
   ]
  }
 ],
 "metadata": {
  "kernelspec": {
   "display_name": "Python 3",
   "language": "python",
   "name": "python3"
  },
  "language_info": {
   "codemirror_mode": {
    "name": "ipython",
    "version": 3
   },
   "file_extension": ".py",
   "mimetype": "text/x-python",
   "name": "python",
   "nbconvert_exporter": "python",
   "pygments_lexer": "ipython3",
   "version": "3.12.3"
  }
 },
 "nbformat": 4,
 "nbformat_minor": 2
}
